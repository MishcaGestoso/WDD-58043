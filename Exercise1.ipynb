{
  "nbformat": 4,
  "nbformat_minor": 0,
  "metadata": {
    "colab": {
      "name": "Exercise1.ipynb",
      "provenance": [],
      "toc_visible": true,
      "authorship_tag": "ABX9TyOFkucO4GyZ1WFDcPPcJB+2",
      "include_colab_link": true
    },
    "kernelspec": {
      "name": "python3",
      "display_name": "Python 3"
    },
    "language_info": {
      "name": "python"
    }
  },
  "cells": [
    {
      "cell_type": "markdown",
      "metadata": {
        "id": "view-in-github",
        "colab_type": "text"
      },
      "source": [
        "<a href=\"https://colab.research.google.com/github/MishcaGestoso/Web-Design-Development-Lab-58043/blob/main/Exercise1.ipynb\" target=\"_parent\"><img src=\"https://colab.research.google.com/assets/colab-badge.svg\" alt=\"Open In Colab\"/></a>"
      ]
    },
    {
      "cell_type": "code",
      "execution_count": null,
      "metadata": {
        "colab": {
          "base_uri": "https://localhost:8080/"
        },
        "id": "myrlkOXGp0jv",
        "outputId": "b71f27f1-e95f-4bad-d838-1b575be7dcd6"
      },
      "outputs": [
        {
          "output_type": "stream",
          "name": "stdout",
          "text": [
            "Enter the value of radius:14\n",
            "The Area of the circle is 615.44 sq ms\n"
          ]
        }
      ],
      "source": [
        "# Python program that computes Area of circle using radius\n",
        "\n",
        "R = float(input(\"Enter the value of radius:\"))\n",
        "pi= 3.14\n",
        "A =  pi *(R*R)\n",
        "print(\"The Area of the circle is\", A,\"sq ms\")"
      ]
    }
  ]
}